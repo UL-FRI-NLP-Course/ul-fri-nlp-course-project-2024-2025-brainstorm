{
 "cells": [
  {
   "cell_type": "markdown",
   "id": "ed394c5d",
   "metadata": {},
   "source": [
    "# GaMS-9B Traffic Report Generation - Fine-tuning Guide\n",
    "\n",
    "### Model Files\n",
    "\n",
    "| Type | Path | Description |\n",
    "|------|------|-------------|\n",
    "| Base Model | GaMS-9B-Instruct | The pre-trained GaMS-9B-Instruct model |\n",
    "| Fine-tuned Model | GaMS-9B-Instruct | The final fine-tuned model output |\n",
    "| Checkpoints | checkpoints | Intermediate model checkpoints saved during training |\n",
    "\n",
    "### Training Data\n",
    "\n",
    "| Type | Path | Description |\n",
    "|------|------|-------------|\n",
    "| Dataset | matched_events_sample.csv | Traffic event data with human-written reports |\n",
    "\n",
    "The dataset is in CSV format with the following columns:\n",
    "- `Datum`: Date and time of the traffic event\n",
    "- `Porocilo`: Target report written by humans (used as the target for fine-tuning)\n",
    "- `Input_porocilo`: Input data describing the traffic events (used as model input)\n",
    "\n",
    "### Code and Configuration\n",
    "\n",
    "| Type | Path | Description |\n",
    "|------|------|-------------|\n",
    "| Fine-tuning Script | finetune_GaMS_9B.py | Main script for fine-tuning |\n",
    "| Parameters | params_GaMS_9B.py | Configuration settings and hyperparameters |\n",
    "| Data Loader | data_loader.py | Data loading and processing utilities |\n",
    "| Test | test.py | Test script |\n",
    "| SLURM Script | fine_tune.sh | Batch script for running on HPC |\n",
    "| SLURM Script | run_test.sh | Batch script for running on HPC |\n",
    "\n",
    "### Logs and Outputs\n",
    "\n",
    "| Type | Path | Description |\n",
    "|------|------|-------------|\n",
    "| SLURM Output | `/d/hpc/home/aj3477/NLP/logs/GaMS-9B-Instruct/log_finetune/finetune-gams-JOBID.out` | Standard output from SLURM job |\n",
    "| SLURM Error | `/d/hpc/home/aj3477/NLP/logs/GaMS-9B-Instruct/log_finetune/finetune-gams-JOBID.err` | Error messages from SLURM job |\n",
    "| SLURM TEST Output | `/d/hpc/home/aj3477/NLP/logs/GaMS-9B-Instruct/log_test/finetune-gams-JOBID.out` | Standard output from SLURM job |\n",
    "| SLURM TEST Error | `/d/hpc/home/aj3477/NLP/logs/GaMS-9B-Instruct/log_test/finetune-gams-JOBID.err` | Error messages from SLURM job |\n",
    "| Test Results | testing | Generated report samples and test results |\n",
    "\n",
    "## Running the Fine-tuning Process\n",
    "\n",
    "### 1. Prepare the Environment\n",
    "\n",
    "Ensure the data file is correctly formatted and placed at the specified location:\n"
   ]
  },
  {
   "cell_type": "code",
   "execution_count": null,
   "id": "1bdf3c40",
   "metadata": {
    "vscode": {
     "languageId": "bash"
    }
   },
   "outputs": [],
   "source": [
    "# Navigate to the project directory\n",
    "cd prot/do/FineTune\n",
    "\n",
    "# Submit the job to SLURM\n",
    "sbatch fine_tune.sh"
   ]
  },
  {
   "cell_type": "markdown",
   "id": "367caaf2",
   "metadata": {},
   "source": [
    "\n",
    "\n",
    "## Monitoring and Managing the Fine-tuning Process\n",
    "\n",
    "### Check Job Status\n",
    "\n"
   ]
  },
  {
   "cell_type": "code",
   "execution_count": null,
   "id": "22715f43",
   "metadata": {
    "vscode": {
     "languageId": "bash"
    }
   },
   "outputs": [],
   "source": [
    "# Check status of your specific job (replace JOBID with your job's ID)\n",
    "squeue -j JOBID\n",
    "\n",
    "# Check all your running jobs\n",
    "squeue -u $USER"
   ]
  },
  {
   "cell_type": "markdown",
   "id": "be70fa00",
   "metadata": {},
   "source": [
    "\n",
    "\n",
    "### View Logs in Real-time\n",
    "\n"
   ]
  },
  {
   "cell_type": "code",
   "execution_count": null,
   "id": "6f28a473",
   "metadata": {
    "vscode": {
     "languageId": "bash"
    }
   },
   "outputs": [],
   "source": [
    "# View the fine-tuning script logs\n",
    "tail -f /d/hpc/home/aj3477/NLP/logs/GaMS-9B-Instruct/finetune_*.log\n",
    "\n",
    "# View SLURM job output (replace JOBID with your job's ID)\n",
    "tail -f /d/hpc/home/aj3477/NLP/logs/GaMS-9B-Instruct/log_runs/finetune-gams-JOBID.out\n",
    "tail -f /d/hpc/home/aj3477/NLP/logs/GaMS-9B-Instruct/log_runs/finetune-gams-JOBID.err"
   ]
  },
  {
   "cell_type": "markdown",
   "id": "229d5183",
   "metadata": {},
   "source": [
    "\n",
    "\n",
    "### Resource Utilization\n",
    "\n"
   ]
  },
  {
   "cell_type": "code",
   "execution_count": null,
   "id": "af26460b",
   "metadata": {
    "vscode": {
     "languageId": "bash"
    }
   },
   "outputs": [],
   "source": [
    "# Check resource usage for a running job\n",
    "sstat -j JOBID\n",
    "\n",
    "# After completion, get resource usage summary\n",
    "sacct -j JOBID --format=JobID,JobName,Partition,AllocCPUS,State,ExitCode,Elapsed,MaxRSS"
   ]
  },
  {
   "cell_type": "markdown",
   "id": "83c9629e",
   "metadata": {},
   "source": [
    "\n",
    "\n",
    "### Cancel a Job\n",
    "\n"
   ]
  },
  {
   "cell_type": "code",
   "execution_count": null,
   "id": "d2c2e870",
   "metadata": {
    "vscode": {
     "languageId": "bash"
    }
   },
   "outputs": [],
   "source": [
    "scancel JOBID"
   ]
  },
  {
   "cell_type": "markdown",
   "id": "50475dca",
   "metadata": {},
   "source": [
    "# TESTING\n"
   ]
  },
  {
   "cell_type": "code",
   "execution_count": null,
   "id": "25a10ab5",
   "metadata": {
    "vscode": {
     "languageId": "bat"
    }
   },
   "outputs": [],
   "source": [
    "sbatch run_test.sh"
   ]
  }
 ],
 "metadata": {
  "language_info": {
   "name": "python"
  }
 },
 "nbformat": 4,
 "nbformat_minor": 5
}
